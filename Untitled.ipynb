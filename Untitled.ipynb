{
 "cells": [
  {
   "cell_type": "code",
   "execution_count": 1,
   "id": "2848f251",
   "metadata": {},
   "outputs": [],
   "source": [
    "import pandas as pd # for data manipulation in python\n",
    "import numpy as np # for numerical computing in python\n",
    "import matplotlib.pyplot as plt # for visualization\n",
    "import seaborn as sns # for beautiful visualization and work in sync with matplotlib\n",
    "import warnings\n",
    "warnings.filterwarnings(\"ignore\") # to remove package deprecation warning\n"
   ]
  },
  {
   "cell_type": "code",
   "execution_count": 2,
   "id": "701e66fb",
   "metadata": {},
   "outputs": [
    {
     "data": {
      "text/plain": [
       "(39717, 111)"
      ]
     },
     "execution_count": 2,
     "metadata": {},
     "output_type": "execute_result"
    }
   ],
   "source": [
    "loan_Information_df = pd.read_csv(\"loan.csv\")\n",
    "loan_Information_df.shape"
   ]
  },
  {
   "cell_type": "code",
   "execution_count": null,
   "id": "67ca1cd8",
   "metadata": {},
   "outputs": [],
   "source": []
  }
 ],
 "metadata": {
  "kernelspec": {
   "display_name": "Python 3 (ipykernel)",
   "language": "python",
   "name": "python3"
  },
  "language_info": {
   "codemirror_mode": {
    "name": "ipython",
    "version": 3
   },
   "file_extension": ".py",
   "mimetype": "text/x-python",
   "name": "python",
   "nbconvert_exporter": "python",
   "pygments_lexer": "ipython3",
   "version": "3.9.12"
  }
 },
 "nbformat": 4,
 "nbformat_minor": 5
}
